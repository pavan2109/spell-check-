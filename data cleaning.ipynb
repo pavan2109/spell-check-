{
 "cells": [
  {
   "cell_type": "code",
   "execution_count": 10,
   "metadata": {},
   "outputs": [],
   "source": [
    "import re\n",
    "\n",
    "REMOVE_CHARS = \"[#$\\\"<=>!?�;^{}~\\t\\n\\r'|]\"\n",
    "REPLACE_CHARS = \"[+,¿:()*\\[\\]`|\\xa0\\\\–@_]\"\n",
    "remove_special = lambda x: re.sub(REMOVE_CHARS, \"\", x)\n",
    "replace_special = lambda x: re.sub(REPLACE_CHARS, \" \", x)\n",
    "remove_spaces = lambda x: re.sub(\" +\", \" \", x.strip())\n",
    "remove_numeric = lambda x: \" \".join([i for i in x.split() if i.isalpha()])\n",
    "isascii = lambda x: len(x) == len(x.encode()) and x.isprintable()"
   ]
  },
  {
   "cell_type": "code",
   "execution_count": 84,
   "metadata": {},
   "outputs": [
    {
     "data": {
      "text/plain": [
       "'ababbajsbauwd+++ li'"
      ]
     },
     "execution_count": 84,
     "metadata": {},
     "output_type": "execute_result"
    }
   ],
   "source": [
    "remove_special('ababbajsbauwd##$$<>+++!~;{} li')"
   ]
  },
  {
   "cell_type": "code",
   "execution_count": 85,
   "metadata": {},
   "outputs": [
    {
     "data": {
      "text/plain": [
       "'sfdj9824'"
      ]
     },
     "execution_count": 85,
     "metadata": {},
     "output_type": "execute_result"
    }
   ],
   "source": [
    "a=' sfdj9824    '\n",
    "a.strip()"
   ]
  },
  {
   "cell_type": "code",
   "execution_count": 20,
   "metadata": {},
   "outputs": [],
   "source": [
    "def clean(text):\n",
    "    text = text.lower()\n",
    " \n",
    "    print(\"lower case\", text)\n",
    "    text = replace_special(text)\n",
    "   \n",
    "    print(\"replace sp chars with space\" , text)\n",
    "\n",
    "    text = remove_special(text)\n",
    "    print(\"remove special chars with empt\",text)\n",
    "    \n",
    "    text = split(text)\n",
    "    print(\"splitting\", text)\n",
    "    text = remove_spaces(text)\n",
    "    print(\"remove spaces\",text)\n",
    "    text = \"\".join([i for i in text if isascii(i)])\n",
    "    print(\"joining text\",text)\n",
    "    text = text.strip()\n",
    "    print(\"remove spaces in first and last\", text)\n",
    "    return text"
   ]
  },
  {
   "cell_type": "code",
   "execution_count": 79,
   "metadata": {},
   "outputs": [
    {
     "name": "stdout",
     "output_type": "stream",
     "text": [
      "lower case he%l{l+-@oplo$# *&^vb\n",
      "replace sp chars with space he%l{l - oplo$#  &^vb\n",
      "remove special chars with empt he%ll - oplo  &vb\n",
      "['he%ll']\n",
      "['he%ll', '-']\n",
      "['he%ll', '-', 'oplo']\n",
      "['he%ll', '-', 'oplo', '&vb']\n",
      "Final before joining ['he%ll', '-', 'oplo', '&vb']\n",
      "splitting he%ll - oplo &vb\n",
      "remove spaces he%ll - oplo &vb\n",
      "joining text he%ll - oplo &vb\n",
      "remove spaces in first and last he%ll - oplo &vb\n"
     ]
    },
    {
     "data": {
      "text/plain": [
       "'he%ll - oplo &vb'"
      ]
     },
     "execution_count": 79,
     "metadata": {},
     "output_type": "execute_result"
    }
   ],
   "source": [
    "clean(\"he%L{L+-@OPlo$# *&^vb\")"
   ]
  },
  {
   "cell_type": "code",
   "execution_count": 6,
   "metadata": {},
   "outputs": [],
   "source": [
    "def split(x):\n",
    "    out = []\n",
    "    for w in x.split():\n",
    "        if \"-\" in w:\n",
    "            if all([i.isnumeric() or len(i) < 3 for i in w.split(\"-\")]):\n",
    "                out.append(w)\n",
    "            elif all([i.isalpha() and len(i) > 1 for i in w.split(\"-\")]):\n",
    "                out += w.split(\"-\")\n",
    "            else:\n",
    "                out.append(w.replace(\"-\", \"\"))\n",
    "        elif \"/\" in w:\n",
    "            if all([i.isnumeric() for i in w.split(\"/\")]):\n",
    "                out.append(w)\n",
    "            elif all([i.isalpha() and len(i) > 1 for i in w.split(\"/\")]):\n",
    "                out += w.split(\"/\")\n",
    "            else:\n",
    "                out.append(w.replace(\"/\", \"\"))\n",
    "        elif \"&\" in w:\n",
    "            if w == \"&\":\n",
    "                out.append(w)\n",
    "            elif all([len(i) < 2 for i in w.split(\"&\")]):\n",
    "                out.append(w)\n",
    "            elif any([not i.isalpha() for i in w.split(\"&\")]):\n",
    "                out.append(w)\n",
    "            else:\n",
    "                out.append(\" & \".join(w.split(\"&\")))\n",
    "        elif \".\" in w:\n",
    "            if any([not i.isalpha() for i in w.split(\".\")]):\n",
    "                out.append(w)\n",
    "            elif all([i.isalpha() and len(i) > 1 for i in w.split(\".\")]):\n",
    "                out += w.split(\".\")\n",
    "            else:\n",
    "                out.append(w.replace(\".\", \"\"))\n",
    "        else:\n",
    "            out.append(w)\n",
    "    return \" \".join(out)\n",
    "\n",
    "\n",
    "def clean(text):\n",
    "    text = text.lower()\n",
    "    text = replace_special(text)\n",
    "    text = remove_special(text)\n",
    "    text = split(text)\n",
    "    text = remove_spaces(text)\n",
    "    text = \"\".join([i for i in text if isascii(i)])\n",
    "    text = text.strip()\n",
    "    return text\n",
    "\n",
    "\n",
    "async def get_prediction(query: str, topk: int = 1, best: bool = True):\n",
    "    res = await model.correct_strings([query], topk=topk, best=best)\n",
    "    if topk == 1:\n",
    "        res = [\n",
    "            [{\"correction\": q, \"score\": float(c), \"confidence\": float(c)} for q, c in i]\n",
    "            for i in res\n",
    "        ]\n",
    "    elif topk > 1:\n",
    "        if best:\n",
    "            res = [\n",
    "                [\n",
    "                    {\"correction\": q, \"score\": float(s), \"confidence\": float(c)}\n",
    "                    for q, s, c in i\n",
    "                ]\n",
    "                for i in res\n",
    "            ]\n",
    "        else:\n",
    "            res = [\n",
    "                [\n",
    "                    [\n",
    "                        {\"correction\": q, \"score\": float(s), \"confidence\": float(c)}\n",
    "                        for q, s, c in w\n",
    "                    ]\n",
    "                    for w in i\n",
    "                ]\n",
    "                for i in res\n",
    "            ]\n",
    "    return res\n",
    "\n"
   ]
  },
  {
   "cell_type": "code",
   "execution_count": 78,
   "metadata": {},
   "outputs": [
    {
     "data": {
      "text/plain": [
       "False"
      ]
     },
     "execution_count": 78,
     "metadata": {},
     "output_type": "execute_result"
    }
   ],
   "source": [
    "'shirt599'.isalpha()\n",
    "##isdigit()\n",
    "#isnumeric()\n",
    "#isalpha()"
   ]
  },
  {
   "cell_type": "code",
   "execution_count": 69,
   "metadata": {},
   "outputs": [
    {
     "data": {
      "text/plain": [
       "['a', 'b']"
      ]
     },
     "execution_count": 69,
     "metadata": {},
     "output_type": "execute_result"
    }
   ],
   "source": [
    "l=['a']\n",
    "l+='b'\n",
    "l"
   ]
  },
  {
   "cell_type": "code",
   "execution_count": 57,
   "metadata": {},
   "outputs": [],
   "source": [
    "def split(x):\n",
    "    out = []\n",
    "    for w in x.split():\n",
    "        if \"-\" in w:\n",
    "            if all([i.isnumeric() or len(i) < 3 for i in w.split(\"-\")]): ##t-shirt-->['t','shirt']\n",
    "                out.append(w)                                            ##not appending cause 'shirt' fails condition\n",
    "                print(out)\n",
    "            elif all([i.isalpha() and len(i) > 1 for i in w.split(\"-\")]):  ##ta-shirt-->['ta','shirt']\n",
    "                out += w.split(\"-\")\n",
    "                print(\"+ is added\",out)\n",
    "            else:\n",
    "                out.append(w.replace(\"-\", \"\"))\n",
    "                print(out)\n",
    "        elif \"/\" in w:    #shirt599/-\n",
    "            if all([i.isnumeric() for i in w.split(\"/\")]): #-->[shirt599,-]\n",
    "                out.append(w)\n",
    "                print(out)\n",
    "            elif all([i.isalpha() and len(i) > 1 for i in w.split(\"/\")]):  #-->[shirt599,-]\n",
    "                out += w.split(\"/\")\n",
    "                print(out)\n",
    "            else:\n",
    "                out.append(w.replace(\"/\", \"\"))  ##-->shirt599-\n",
    "                print(out)\n",
    "        elif \"&\" in w: ##home & decor &\n",
    "            if w == \"&\":\n",
    "                out.append(w)\n",
    "                print(out)\n",
    "            elif all([len(i) < 2 for i in w.split(\"&\")]): #'&ab'-->[' ','ab']-->2\n",
    "                out.append(w)\n",
    "                print(out)\n",
    "            elif any([not i.isalpha() for i in w.split(\"&\")]):\n",
    "                out.append(w)\n",
    "                print(out)\n",
    "               \n",
    "            else:\n",
    "                out.append(\" & \".join(w.split(\"&\")))\n",
    "                print(out)\n",
    "        elif \".\" in w:\n",
    "            if any([not i.isalpha() for i in w.split(\".\")]):\n",
    "                out.append(w)\n",
    "                print(out)\n",
    "            elif all([i.isalpha() and len(i) > 1 for i in w.split(\".\")]):\n",
    "                out += w.split(\".\")\n",
    "                print(out)\n",
    "            else:\n",
    "                out.append(w.replace(\".\", \"\"))\n",
    "                print(out)\n",
    "        else:\n",
    "            out.append(w)\n",
    "            print(out)\n",
    "    print(\"Final before joining\",out)\n",
    "    return \" \".join(out)"
   ]
  },
  {
   "cell_type": "code",
   "execution_count": 76,
   "metadata": {},
   "outputs": [
    {
     "name": "stdout",
     "output_type": "stream",
     "text": [
      "['shirt599/']\n",
      "Final before joining ['shirt599/']\n"
     ]
    },
    {
     "data": {
      "text/plain": [
       "'shirt599/'"
      ]
     },
     "execution_count": 76,
     "metadata": {},
     "output_type": "execute_result"
    }
   ],
   "source": [
    "split('shirt599/-')"
   ]
  },
  {
   "cell_type": "code",
   "execution_count": 77,
   "metadata": {},
   "outputs": [
    {
     "data": {
      "text/plain": [
       "['shirt599', '-']"
      ]
     },
     "execution_count": 77,
     "metadata": {},
     "output_type": "execute_result"
    }
   ],
   "source": [
    "'shirt599/-'.split('/')"
   ]
  },
  {
   "cell_type": "code",
   "execution_count": 62,
   "metadata": {},
   "outputs": [
    {
     "data": {
      "text/plain": [
       "['t', 'shirt']"
      ]
     },
     "execution_count": 62,
     "metadata": {},
     "output_type": "execute_result"
    }
   ],
   "source": [
    "'t-shirt'.split('-') "
   ]
  },
  {
   "cell_type": "code",
   "execution_count": 71,
   "metadata": {},
   "outputs": [
    {
     "name": "stdout",
     "output_type": "stream",
     "text": [
      "['tshirt']\n",
      "['tshirt', 'and']\n",
      "['tshirt', 'and', 'pant']\n",
      "Final before joining ['tshirt', 'and', 'pant']\n"
     ]
    },
    {
     "data": {
      "text/plain": [
       "'tshirt and pant'"
      ]
     },
     "execution_count": 71,
     "metadata": {},
     "output_type": "execute_result"
    }
   ],
   "source": [
    "split('ta-shirt and pant')"
   ]
  },
  {
   "cell_type": "code",
   "execution_count": 59,
   "metadata": {},
   "outputs": [
    {
     "name": "stdout",
     "output_type": "stream",
     "text": [
      "['home']\n",
      "['home', '&ab']\n",
      "['home', '&ab', 'decor']\n",
      "Final before joining ['home', '&ab', 'decor']\n"
     ]
    },
    {
     "data": {
      "text/plain": [
       "'home &ab decor'"
      ]
     },
     "execution_count": 59,
     "metadata": {},
     "output_type": "execute_result"
    }
   ],
   "source": [
    "split('home &ab decor')  "
   ]
  },
  {
   "cell_type": "code",
   "execution_count": 26,
   "metadata": {},
   "outputs": [
    {
     "name": "stdout",
     "output_type": "stream",
     "text": [
      "['dj908878&/\\\\/./j']\n"
     ]
    },
    {
     "data": {
      "text/plain": [
       "'dj908878&/\\\\/./j'"
      ]
     },
     "execution_count": 26,
     "metadata": {},
     "output_type": "execute_result"
    }
   ],
   "source": [
    "split('dj908878--&/\\/./j')"
   ]
  },
  {
   "cell_type": "code",
   "execution_count": 51,
   "metadata": {},
   "outputs": [],
   "source": [
    "s='anan'\n"
   ]
  },
  {
   "cell_type": "code",
   "execution_count": 52,
   "metadata": {},
   "outputs": [
    {
     "data": {
      "text/plain": [
       "True"
      ]
     },
     "execution_count": 52,
     "metadata": {},
     "output_type": "execute_result"
    }
   ],
   "source": [
    "s.isalpha()"
   ]
  },
  {
   "cell_type": "code",
   "execution_count": null,
   "metadata": {},
   "outputs": [],
   "source": [
    "\n",
    "# HEADER = {\"Host\": SPELLCHECK_MODEL_HOST}\n",
    "# kubeflow = Kubeflow()\n",
    "# kubeflow.get_cookie()\n",
    "# async def get_prediction(query: str, topk: int = 1, best: bool = True):\n",
    "#     try:\n",
    "#         st_time = time()\n",
    "#         async with aio_client.session.post(\n",
    "#             SPELLCHECK_MODEL_URL,\n",
    "#             headers=HEADER,\n",
    "#             json={\"instances\": [query], \"topk\": topk, \"best\": best},\n",
    "#             cookies=kubeflow.COOKIE,\n",
    "#         ) as response:\n",
    "#             res = await response.json()\n",
    "#         #     res=requests.post(url=SPELLCHECK_MODEL_URL, cookies=COOKIE, json={'instances':[query]}, headers=HEADER).json()\n",
    "#     except Exception as e:\n",
    "#         logger.error(e)\n",
    "#         raise ModelNoteReachableException()\n",
    "#     logger.info(f\"Kubeflow took: {round(round((time() - st_time) * 1000, 2))}\")\n",
    "#     if \"predictions\" in res:\n",
    "#         return res[\"predictions\"]\n",
    "#     elif (\n",
    "#         \"Not Found\" in res.get(\"errors\", None)\n",
    "#         and str(response.url) != SPELLCHECK_MODEL_URL\n",
    "#     ):\n",
    "#         print(\"kubeflow session expired\")\n",
    "#         kubeflow.get_cookie()\n",
    "#         async with aio_client.session.post(\n",
    "#             SPELLCHECK_MODEL_URL,\n",
    "#             headers=HEADER,\n",
    "#             json={\"instances\": [query]},\n",
    "#             cookies=kubeflow.COOKIE,\n",
    "#         ) as response:\n",
    "#             try:\n",
    "#                 res = await response.json()\n",
    "#             #     res=requests.post(url=SPELLCHECK_MODEL_URL, cookies=COOKIE, json={'instances':[query]}, headers=HEADER).json()\n",
    "#             except Exception as e:\n",
    "#                 logger.error(\"Model Not Reachable\")\n",
    "#                 raise ModelNoteReachableException(exec=e)\n",
    "#         if \"predictions\" in res:\n",
    "#             return res[\"predictions\"]\n",
    "#         else:\n",
    "#             logger.error(\"Invalid response from model\")\n",
    "#             raise ModelException(res)\n",
    "#     else:\n",
    "#         logger.error(\"Invalid response from model\")\n",
    "#         raise ModelException(res)\n"
   ]
  }
 ],
 "metadata": {
  "kernelspec": {
   "display_name": "Python 3",
   "language": "python",
   "name": "python3"
  },
  "language_info": {
   "codemirror_mode": {
    "name": "ipython",
    "version": 3
   },
   "file_extension": ".py",
   "mimetype": "text/x-python",
   "name": "python",
   "nbconvert_exporter": "python",
   "pygments_lexer": "ipython3",
   "version": "3.8.3"
  }
 },
 "nbformat": 4,
 "nbformat_minor": 4
}
